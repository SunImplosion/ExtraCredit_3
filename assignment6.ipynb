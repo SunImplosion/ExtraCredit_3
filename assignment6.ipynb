{
 "cells": [
  {
   "cell_type": "markdown",
   "metadata": {},
   "source": [
    "This code defines a simple implementation of a class :HashTable in Python.\n",
    "\n",
    "## Instructions\n",
    "\n",
    "1. **Create a rectangle:** Constract a rectangle instance with width 10 and length 20.\n",
    "\n",
    "2. **Insert Values:** Call the methods of the `Rectangle` class to compute the area and perimeter of the rectangle.\n",
    "\n",
    "3. **Write a function** Add a method in the Rectangle class to print the attributes of the rentangle. \n"
   ]
  },
  {
   "cell_type": "code",
   "execution_count": 4,
   "metadata": {},
   "outputs": [
    {
     "name": "stdout",
     "output_type": "stream",
     "text": [
      "Area 200\n",
      "Perimeter 60\n",
      "The length is 10 The width is 20\n"
     ]
    }
   ],
   "source": [
    "class Rectangle:\n",
    "    def __init__(self, length, width):\n",
    "        \"\"\"Initializes the class Rectangle\n",
    "        args : none\n",
    "        args : length (float), width (float)\"\"\"\n",
    "        self.length = length\n",
    "        self.width = width\n",
    "    \n",
    "    def area(self):\n",
    "        \"\"\"Finds the area of the relevant rectangle\n",
    "        args : none\n",
    "        returns : area of relevant rectangle\"\"\"\n",
    "        return self.length * self.width\n",
    "    \n",
    "    def perimeter(self):\n",
    "        \"\"\"Finds the perimeter of the relevant rectangle\n",
    "        args : none\n",
    "        returns : perimeter of relevant rectangle\"\"\"\n",
    "        return 2 * (self.length + self.width)\n",
    "    def attributes(self):\n",
    "        \"\"\"Prints the attributes of the rectangle\n",
    "        args : none\n",
    "        returns : N/A\"\"\"\n",
    "        print(\"The length is\", self.length, \"The width is\", self.width)\n",
    "\n",
    "\n",
    "rec = Rectangle(10,20)\n",
    "print(\"Area\",rec.area())\n",
    "print(\"Perimeter\",rec.perimeter())\n",
    "rec.attributes()"
   ]
  }
 ],
 "metadata": {
  "kernelspec": {
   "display_name": "Python 3",
   "language": "python",
   "name": "python3"
  },
  "language_info": {
   "codemirror_mode": {
    "name": "ipython",
    "version": 3
   },
   "file_extension": ".py",
   "mimetype": "text/x-python",
   "name": "python",
   "nbconvert_exporter": "python",
   "pygments_lexer": "ipython3",
   "version": "3.12.5"
  }
 },
 "nbformat": 4,
 "nbformat_minor": 2
}
