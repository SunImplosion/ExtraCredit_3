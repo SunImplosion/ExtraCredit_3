{
 "cells": [
  {
   "cell_type": "markdown",
   "metadata": {},
   "source": [
    "# HR Dataset Data Cleaning (This assignment carries 2 extra credits.)\n",
    "\n",
    "This code performs data cleaning on an HR dataset.\n",
    "\n",
    "## Instructions\n",
    "\n",
    "1. **Read the Data**: Load the data from `\"HR_5000 Records.csv\"` using the pandas library.\n",
    "\n",
    "2. **Create a Subset DataFrame**: Create a new DataFrame containing only the columns \"Emp ID,\" \"User Name,\" and \"Password.\"\n",
    "\n",
    "3. **Data Engineering**: Use a function to check if each password meets the following validity criteria:\n",
    "   - Minimum 8 characters\n",
    "   - Contains at least one special character\n",
    "   - Contains at least one number\n",
    "   - Contains at least one uppercase letter\n",
    "\n",
    "   Create a new column called `\"valid_password\"` that indicates `\"Valid\"` or `\"Invalid\"` for each entry using lambda function.\n",
    "\n",
    "4. **Data Visualization**: Create a pie chart to show the percentage of employees with a valid password.\n"
   ]
  },
  {
   "cell_type": "code",
   "execution_count": null,
   "metadata": {},
   "outputs": [
    {
     "data": {
      "text/plain": [
       "([<matplotlib.patches.Wedge at 0x1e394495ee0>,\n",
       "  <matplotlib.patches.Wedge at 0x1e38f3502c0>],\n",
       " [Text(1.0396172412443803, 0.35943843938486036, 'True'),\n",
       "  Text(-1.0396171991091654, -0.3594385612540954, 'False')])"
      ]
     },
     "execution_count": 27,
     "metadata": {},
     "output_type": "execute_result"
    },
    {
     "data": {
      "image/png": "[encoded data removed]",
      "text/plain": [
       "<Figure size 640x480 with 1 Axes>"
      ]
     },
     "metadata": {},
     "output_type": "display_data"
    }
   ],
   "source": [
    "import pandas as pd\n",
    "import matplotlib.pyplot as plt\n",
    "df = pd.read_csv(\"HR_5000 Records.csv\")\n",
    "def pas_check(pas):\n",
    "    \"\"\"checks if a password meets specifications to be consdidered strong\n",
    "    args : pas (str)\n",
    "    return : safe (boolean)\"\"\"\n",
    "    safe = False\n",
    "    if \"!\" or \"@\" or \"#\" or \"$\" or \"%\" or \"^\" or \"&\" or \"*\" or \"(\" or \")\" in pas:\n",
    "        safe = True\n",
    "    else :\n",
    "        safe = False\n",
    "    for p in pas:\n",
    "        cont = False\n",
    "        if p.isdigit() == True:\n",
    "            cont = True\n",
    "    safe = cont\n",
    "    if pas == pas.lower():\n",
    "        safe = False\n",
    "\n",
    "    return safe\n",
    "    \n",
    "\n",
    "df_new = df[['Emp ID', \"User Name\", \"Password\"]].copy()\n",
    "df_pas = df[[\"Password\"]].copy()\n",
    "df_new.head(5)\n",
    "check = []\n",
    "for p in df_pas[\"Password\"]:                                        #goes through all passwords and checks if they are safe\n",
    "    check.append(pas_check(p))\n",
    "numf = 0\n",
    "numt = 0\n",
    "for c in check :\n",
    "    if c == False:\n",
    "        numf += 1\n",
    "    else :\n",
    "        numt +=1\n",
    "size = [numt,numf] \n",
    "cat = [\"True\",\"False\"]\n",
    "plt.pie(size,labels= cat)                                          #creates bar chart\n"
   ]
  }
 ],
 "metadata": {
  "kernelspec": {
   "display_name": "Python 3",
   "language": "python",
   "name": "python3"
  },
  "language_info": {
   "codemirror_mode": {
    "name": "ipython",
    "version": 3
   },
   "file_extension": ".py",
   "mimetype": "text/x-python",
   "name": "python",
   "nbconvert_exporter": "python",
   "pygments_lexer": "ipython3",
   "version": "3.12.5"
  }
 },
 "nbformat": 4,
 "nbformat_minor": 2
}
