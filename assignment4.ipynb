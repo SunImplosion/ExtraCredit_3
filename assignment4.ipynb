{
 "cells": [
  {
   "cell_type": "markdown",
   "metadata": {},
   "source": [
    "## Instructions\n",
    "\n",
    "Re-write the following functions to one line lambda functions. \n"
   ]
  },
  {
   "cell_type": "code",
   "execution_count": null,
   "metadata": {},
   "outputs": [
    {
     "data": {
      "text/plain": [
       "9"
      ]
     },
     "execution_count": 2,
     "metadata": {},
     "output_type": "execute_result"
    }
   ],
   "source": [
    "#def add(x, y):\n",
    "    #return x + y\n",
    "\n",
    "# Write One-line lambda function below\n",
    "add = (lambda x,y : x+y) #returns the sum of inputs x and y"
   ]
  },
  {
   "cell_type": "code",
   "execution_count": null,
   "metadata": {},
   "outputs": [],
   "source": [
    "#def square(x):\n",
    "    #return x ** 2\n",
    "\n",
    "\n",
    "# Write One-line lambda function below\n",
    "square = (lambda x: x**2) #returns the square of x"
   ]
  },
  {
   "cell_type": "code",
   "execution_count": null,
   "metadata": {},
   "outputs": [],
   "source": [
    "#def reverse_string(s):\n",
    "    #return s[::-1]\n",
    "\n",
    "\n",
    "# Write One-line lambda function below\n",
    "reverse_string = (lambda s: s[::-1]) #returns the reversed version of the string\n"
   ]
  },
  {
   "cell_type": "code",
   "execution_count": null,
   "metadata": {},
   "outputs": [
    {
     "data": {
      "text/plain": [
       "9"
      ]
     },
     "execution_count": 6,
     "metadata": {},
     "output_type": "execute_result"
    }
   ],
   "source": [
    "#def max_of_two(x, y):\n",
    "    #if x > y:\n",
    "        #return x  \n",
    "    #else:\n",
    "        #return y\n",
    "\n",
    "\n",
    "# Write One-line lambda function below\n",
    "max_of_two = (lambda x,y: x if x>y else y) #return the larger of two numbers"
   ]
  }
 ],
 "metadata": {
  "kernelspec": {
   "display_name": "Python 3",
   "language": "python",
   "name": "python3"
  },
  "language_info": {
   "codemirror_mode": {
    "name": "ipython",
    "version": 3
   },
   "file_extension": ".py",
   "mimetype": "text/x-python",
   "name": "python",
   "nbconvert_exporter": "python",
   "pygments_lexer": "ipython3",
   "version": "3.12.5"
  }
 },
 "nbformat": 4,
 "nbformat_minor": 2
}
