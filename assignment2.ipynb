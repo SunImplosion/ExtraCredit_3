{
 "cells": [
  {
   "cell_type": "markdown",
   "metadata": {},
   "source": [
    "## Instructions\n",
    "\n",
    "Write a Python function to return the prime numbers from a given list.\n",
    "\n",
    "1. **Define the Function:** Start by defining a Python function named `get_prime` to perform the task.\n",
    "\n",
    "2. **Function Parameters:** The function should take one parameter, `input_ls`, representing the list to find the prime numbers.\n",
    "\n",
    "3. **Algorithm:** Implement an algorithm within the function to find the prime numbers.\n",
    "\n",
    "4. **Return Value:** The function should return the list with prime numbers.\n",
    "\n",
    "5. **Define the input list:** Input list is provided.\n",
    "\n",
    "6. **Function Call:** Call the `get_prime` function with the `input_ls` as the argument.\n",
    "\n",
    "7. **Output:** Print the `output_ls` returned by the function.\n",
    "\n"
   ]
  },
  {
   "cell_type": "code",
   "execution_count": 1,
   "metadata": {},
   "outputs": [],
   "source": [
    "def get_prime(input_ls):\n",
    "    \"\"\"Checkes a given list of numbers for primes and returns a list containing only the prime numbers\n",
    "    args : input_ls (list)\n",
    "    returns : output_ls (list)\"\"\"\n",
    "    output_ls = []\n",
    "    for l in input_ls :\n",
    "        prim = True\n",
    "        for n in range(l//2):\n",
    "            if l%(n+2) == 0:\n",
    "                prim = False\n",
    "                break\n",
    "        if prim == True:\n",
    "            output_ls.append(int(l))\n",
    "    return output_ls\n",
    "\n",
    "\n",
    "\n"
   ]
  },
  {
   "cell_type": "code",
   "execution_count": 6,
   "metadata": {},
   "outputs": [
    {
     "name": "stdout",
     "output_type": "stream",
     "text": [
      "Prime numbers: [97, 11, 3, 13, 23, 11, 29, 59, 3, 97]\n"
     ]
    }
   ],
   "source": [
    "# Define the input list\n",
    "import numpy as np\n",
    "input_ls = np.random.randint(0,100,25)\n",
    "\n",
    "# Function Call\n",
    "output_ls = get_prime(input_ls)\n",
    "\n",
    "# Output\n",
    "print(\"Prime numbers:\", output_ls)\n"
   ]
  }
 ],
 "metadata": {
  "kernelspec": {
   "display_name": "Python 3",
   "language": "python",
   "name": "python3"
  },
  "language_info": {
   "codemirror_mode": {
    "name": "ipython",
    "version": 3
   },
   "file_extension": ".py",
   "mimetype": "text/x-python",
   "name": "python",
   "nbconvert_exporter": "python",
   "pygments_lexer": "ipython3",
   "version": "3.12.5"
  }
 },
 "nbformat": 4,
 "nbformat_minor": 2
}
